{
 "cells": [
  {
   "cell_type": "markdown",
   "metadata": {
    "colab_type": "text",
    "id": "nEzMaGSxUEE8"
   },
   "source": [
    "# Toxic Comment Classification \n",
    "\n",
    "***Weikai Mao*** *(wm282)*\n",
    "\n",
    "In this project, I need to create a model to predict the probability of each type of toxicity for each comment. The dataset includes the Wikipedia comments which have been labeled for toxic behavior (toxic, severe_toxic, obscene, threat, insult, identity_hate).\n",
    "\n",
    "The data is in csv format. There are 8 columns: id (string), identity_hate (integer), toxic (integer),\n",
    "severe_toxi (integer), obscene (integer), threat (integer), insult (integer), and comment_text (string).\n",
    "The feature id is useless, so I dropt it.\n",
    "Apart from id and comment_text , the other 6 features indicate whether this comment text is labeled for\n",
    "the corresponding toxic behavior."
   ]
  },
  {
   "cell_type": "markdown",
   "metadata": {
    "colab_type": "text",
    "id": "FjaYkKzFS7-p"
   },
   "source": [
    "## 1. Data analysis\n",
    "\n"
   ]
  },
  {
   "cell_type": "markdown",
   "metadata": {
    "colab_type": "text",
    "id": "NPgLJnbCWxpB"
   },
   "source": [
    "Since I cannot use Spark and Pyspark in Colab, I redo some important analyses here by using Numpy and Pandas. Please read my intermediate report for the data analyses by using Spark."
   ]
  },
  {
   "cell_type": "code",
   "execution_count": null,
   "metadata": {
    "colab": {},
    "colab_type": "code",
    "id": "fUVauzLIyth2"
   },
   "outputs": [],
   "source": [
    "import numpy as np\n",
    "import pandas as pd\n",
    "import matplotlib.pyplot as plt\n",
    "from sklearn.feature_extraction.text import TfidfVectorizer\n",
    "from sklearn.linear_model import LogisticRegression\n",
    "from sklearn.metrics import log_loss, roc_auc_score\n",
    "from sklearn.naive_bayes import MultinomialNB\n",
    "from sklearn.ensemble import RandomForestClassifier\n",
    "from xgboost import XGBClassifier\n",
    "from keras import layers, initializers, optimizers, \\\n",
    "                  constraints, regularizers\n",
    "from keras.preprocessing.sequence import pad_sequences\n",
    "from keras.models import Model\n",
    "from keras.preprocessing.text import Tokenizer\n",
    "from keras.layers import Embedding, Input, Activation, LSTM, Dense,\\\n",
    "                         Dropout, GlobalMaxPool1D, Bidirectional, CuDNNLSTM"
   ]
  },
  {
   "cell_type": "markdown",
   "metadata": {
    "colab_type": "text",
    "id": "0p1Bu4xmLF2K"
   },
   "source": [
    "### 1.1 Import data"
   ]
  },
  {
   "cell_type": "code",
   "execution_count": null,
   "metadata": {
    "colab": {},
    "colab_type": "code",
    "id": "1_Ls-rUVaJeP"
   },
   "outputs": [],
   "source": [
    "from google.colab import drive\n",
    "drive.mount('/content/gdrive')\n",
    "path = \"/content/gdrive/My Drive/Colab Notebooks/jigsaw-toxic-comment-classification-challenge\""
   ]
  },
  {
   "cell_type": "code",
   "execution_count": null,
   "metadata": {
    "colab": {},
    "colab_type": "code",
    "id": "t3kpmU286tiC"
   },
   "outputs": [],
   "source": [
    "train = pd.read_csv(f'{path}/train.csv')\n",
    "test = pd.read_csv(f'{path}/test.csv')\n",
    "sentences_tr = train.iloc[:, 1].values\n",
    "Ytr = train.iloc[:, 2:].values\n",
    "sentences_te = test.iloc[:, 1].values"
   ]
  },
  {
   "cell_type": "markdown",
   "metadata": {
    "colab_type": "text",
    "id": "Drk7-IY5WRLc"
   },
   "source": [
    "The variable `commen_text` contains the sentences that are use to train the prediction model to do classification. The other 6 variables show the labels of these sentences, and most of them are 0, which means there are not toxic languages."
   ]
  },
  {
   "cell_type": "code",
   "execution_count": null,
   "metadata": {
    "colab": {
     "base_uri": "https://localhost:8080/",
     "height": 279
    },
    "colab_type": "code",
    "id": "vwPwbKS4Cvyo",
    "outputId": "7352da69-93a2-4060-b596-bbebcd9ab348"
   },
   "outputs": [
    {
     "data": {
      "text/html": [
       "<div>\n",
       "<style scoped>\n",
       "    .dataframe tbody tr th:only-of-type {\n",
       "        vertical-align: middle;\n",
       "    }\n",
       "\n",
       "    .dataframe tbody tr th {\n",
       "        vertical-align: top;\n",
       "    }\n",
       "\n",
       "    .dataframe thead th {\n",
       "        text-align: right;\n",
       "    }\n",
       "</style>\n",
       "<table border=\"1\" class=\"dataframe\">\n",
       "  <thead>\n",
       "    <tr style=\"text-align: right;\">\n",
       "      <th></th>\n",
       "      <th>id</th>\n",
       "      <th>comment_text</th>\n",
       "      <th>toxic</th>\n",
       "      <th>severe_toxic</th>\n",
       "      <th>obscene</th>\n",
       "      <th>threat</th>\n",
       "      <th>insult</th>\n",
       "      <th>identity_hate</th>\n",
       "    </tr>\n",
       "  </thead>\n",
       "  <tbody>\n",
       "    <tr>\n",
       "      <th>0</th>\n",
       "      <td>0000997932d777bf</td>\n",
       "      <td>Explanation\\nWhy the edits made under my usern...</td>\n",
       "      <td>0</td>\n",
       "      <td>0</td>\n",
       "      <td>0</td>\n",
       "      <td>0</td>\n",
       "      <td>0</td>\n",
       "      <td>0</td>\n",
       "    </tr>\n",
       "    <tr>\n",
       "      <th>1</th>\n",
       "      <td>000103f0d9cfb60f</td>\n",
       "      <td>D'aww! He matches this background colour I'm s...</td>\n",
       "      <td>0</td>\n",
       "      <td>0</td>\n",
       "      <td>0</td>\n",
       "      <td>0</td>\n",
       "      <td>0</td>\n",
       "      <td>0</td>\n",
       "    </tr>\n",
       "    <tr>\n",
       "      <th>2</th>\n",
       "      <td>000113f07ec002fd</td>\n",
       "      <td>Hey man, I'm really not trying to edit war. It...</td>\n",
       "      <td>0</td>\n",
       "      <td>0</td>\n",
       "      <td>0</td>\n",
       "      <td>0</td>\n",
       "      <td>0</td>\n",
       "      <td>0</td>\n",
       "    </tr>\n",
       "    <tr>\n",
       "      <th>3</th>\n",
       "      <td>0001b41b1c6bb37e</td>\n",
       "      <td>\"\\nMore\\nI can't make any real suggestions on ...</td>\n",
       "      <td>0</td>\n",
       "      <td>0</td>\n",
       "      <td>0</td>\n",
       "      <td>0</td>\n",
       "      <td>0</td>\n",
       "      <td>0</td>\n",
       "    </tr>\n",
       "    <tr>\n",
       "      <th>4</th>\n",
       "      <td>0001d958c54c6e35</td>\n",
       "      <td>You, sir, are my hero. Any chance you remember...</td>\n",
       "      <td>0</td>\n",
       "      <td>0</td>\n",
       "      <td>0</td>\n",
       "      <td>0</td>\n",
       "      <td>0</td>\n",
       "      <td>0</td>\n",
       "    </tr>\n",
       "  </tbody>\n",
       "</table>\n",
       "</div>"
      ],
      "text/plain": [
       "                 id  ... identity_hate\n",
       "0  0000997932d777bf  ...             0\n",
       "1  000103f0d9cfb60f  ...             0\n",
       "2  000113f07ec002fd  ...             0\n",
       "3  0001b41b1c6bb37e  ...             0\n",
       "4  0001d958c54c6e35  ...             0\n",
       "\n",
       "[5 rows x 8 columns]"
      ]
     },
     "execution_count": 4,
     "metadata": {
      "tags": []
     },
     "output_type": "execute_result"
    }
   ],
   "source": [
    "train.head(5)"
   ]
  },
  {
   "cell_type": "markdown",
   "metadata": {
    "colab_type": "text",
    "id": "wcIA-GcH9Alr"
   },
   "source": [
    "### 1.2 Descriptive statistics\n",
    "\n",
    "The table below is the descriptive statistics of the trainin data. It shows that the frequency of toxic in comments is highest, whereas the frequency of threat is lowest."
   ]
  },
  {
   "cell_type": "code",
   "execution_count": null,
   "metadata": {
    "colab": {
     "base_uri": "https://localhost:8080/",
     "height": 284
    },
    "colab_type": "code",
    "id": "Ud-kex1bl9IN",
    "outputId": "8adb3fd0-3d5d-4d1e-efaf-81a4f2a3c418"
   },
   "outputs": [
    {
     "data": {
      "text/html": [
       "<div>\n",
       "<style scoped>\n",
       "    .dataframe tbody tr th:only-of-type {\n",
       "        vertical-align: middle;\n",
       "    }\n",
       "\n",
       "    .dataframe tbody tr th {\n",
       "        vertical-align: top;\n",
       "    }\n",
       "\n",
       "    .dataframe thead th {\n",
       "        text-align: right;\n",
       "    }\n",
       "</style>\n",
       "<table border=\"1\" class=\"dataframe\">\n",
       "  <thead>\n",
       "    <tr style=\"text-align: right;\">\n",
       "      <th></th>\n",
       "      <th>toxic</th>\n",
       "      <th>severe_toxic</th>\n",
       "      <th>obscene</th>\n",
       "      <th>threat</th>\n",
       "      <th>insult</th>\n",
       "      <th>identity_hate</th>\n",
       "    </tr>\n",
       "  </thead>\n",
       "  <tbody>\n",
       "    <tr>\n",
       "      <th>count</th>\n",
       "      <td>159571.000000</td>\n",
       "      <td>159571.000000</td>\n",
       "      <td>159571.000000</td>\n",
       "      <td>159571.000000</td>\n",
       "      <td>159571.000000</td>\n",
       "      <td>159571.000000</td>\n",
       "    </tr>\n",
       "    <tr>\n",
       "      <th>mean</th>\n",
       "      <td>0.095844</td>\n",
       "      <td>0.009996</td>\n",
       "      <td>0.052948</td>\n",
       "      <td>0.002996</td>\n",
       "      <td>0.049364</td>\n",
       "      <td>0.008805</td>\n",
       "    </tr>\n",
       "    <tr>\n",
       "      <th>std</th>\n",
       "      <td>0.294379</td>\n",
       "      <td>0.099477</td>\n",
       "      <td>0.223931</td>\n",
       "      <td>0.054650</td>\n",
       "      <td>0.216627</td>\n",
       "      <td>0.093420</td>\n",
       "    </tr>\n",
       "    <tr>\n",
       "      <th>min</th>\n",
       "      <td>0.000000</td>\n",
       "      <td>0.000000</td>\n",
       "      <td>0.000000</td>\n",
       "      <td>0.000000</td>\n",
       "      <td>0.000000</td>\n",
       "      <td>0.000000</td>\n",
       "    </tr>\n",
       "    <tr>\n",
       "      <th>25%</th>\n",
       "      <td>0.000000</td>\n",
       "      <td>0.000000</td>\n",
       "      <td>0.000000</td>\n",
       "      <td>0.000000</td>\n",
       "      <td>0.000000</td>\n",
       "      <td>0.000000</td>\n",
       "    </tr>\n",
       "    <tr>\n",
       "      <th>50%</th>\n",
       "      <td>0.000000</td>\n",
       "      <td>0.000000</td>\n",
       "      <td>0.000000</td>\n",
       "      <td>0.000000</td>\n",
       "      <td>0.000000</td>\n",
       "      <td>0.000000</td>\n",
       "    </tr>\n",
       "    <tr>\n",
       "      <th>75%</th>\n",
       "      <td>0.000000</td>\n",
       "      <td>0.000000</td>\n",
       "      <td>0.000000</td>\n",
       "      <td>0.000000</td>\n",
       "      <td>0.000000</td>\n",
       "      <td>0.000000</td>\n",
       "    </tr>\n",
       "    <tr>\n",
       "      <th>max</th>\n",
       "      <td>1.000000</td>\n",
       "      <td>1.000000</td>\n",
       "      <td>1.000000</td>\n",
       "      <td>1.000000</td>\n",
       "      <td>1.000000</td>\n",
       "      <td>1.000000</td>\n",
       "    </tr>\n",
       "  </tbody>\n",
       "</table>\n",
       "</div>"
      ],
      "text/plain": [
       "               toxic   severe_toxic  ...         insult  identity_hate\n",
       "count  159571.000000  159571.000000  ...  159571.000000  159571.000000\n",
       "mean        0.095844       0.009996  ...       0.049364       0.008805\n",
       "std         0.294379       0.099477  ...       0.216627       0.093420\n",
       "min         0.000000       0.000000  ...       0.000000       0.000000\n",
       "25%         0.000000       0.000000  ...       0.000000       0.000000\n",
       "50%         0.000000       0.000000  ...       0.000000       0.000000\n",
       "75%         0.000000       0.000000  ...       0.000000       0.000000\n",
       "max         1.000000       1.000000  ...       1.000000       1.000000\n",
       "\n",
       "[8 rows x 6 columns]"
      ]
     },
     "execution_count": 5,
     "metadata": {
      "tags": []
     },
     "output_type": "execute_result"
    }
   ],
   "source": [
    "train.describe()"
   ]
  },
  {
   "cell_type": "markdown",
   "metadata": {
    "colab_type": "text",
    "id": "yYnHXqP6ANo1"
   },
   "source": [
    "### 1.3 Correlation matrix\n",
    "\n",
    "One comment can be classified to several classes. These labels can be correlated with each other. The plot below is the correlation matrix of these labels. \n",
    "\n",
    "From the charts below, we can see that either two of `toxic`, `obscene`, and `insult` have high correlation."
   ]
  },
  {
   "cell_type": "code",
   "execution_count": null,
   "metadata": {
    "colab": {
     "base_uri": "https://localhost:8080/",
     "height": 623
    },
    "colab_type": "code",
    "id": "6v6uAWMLA2XA",
    "outputId": "dcbcd481-74a2-4f9b-bba2-b8e55b753226"
   },
   "outputs": [
    {
     "data": {
      "text/html": [
       "<div>\n",
       "<style scoped>\n",
       "    .dataframe tbody tr th:only-of-type {\n",
       "        vertical-align: middle;\n",
       "    }\n",
       "\n",
       "    .dataframe tbody tr th {\n",
       "        vertical-align: top;\n",
       "    }\n",
       "\n",
       "    .dataframe thead th {\n",
       "        text-align: right;\n",
       "    }\n",
       "</style>\n",
       "<table border=\"1\" class=\"dataframe\">\n",
       "  <thead>\n",
       "    <tr style=\"text-align: right;\">\n",
       "      <th></th>\n",
       "      <th>toxic</th>\n",
       "      <th>severe_toxic</th>\n",
       "      <th>obscene</th>\n",
       "      <th>threat</th>\n",
       "      <th>insult</th>\n",
       "      <th>identity_hate</th>\n",
       "    </tr>\n",
       "  </thead>\n",
       "  <tbody>\n",
       "    <tr>\n",
       "      <th>toxic</th>\n",
       "      <td>1.000000</td>\n",
       "      <td>0.308619</td>\n",
       "      <td>0.676515</td>\n",
       "      <td>0.157058</td>\n",
       "      <td>0.647518</td>\n",
       "      <td>0.266009</td>\n",
       "    </tr>\n",
       "    <tr>\n",
       "      <th>severe_toxic</th>\n",
       "      <td>0.308619</td>\n",
       "      <td>1.000000</td>\n",
       "      <td>0.403014</td>\n",
       "      <td>0.123601</td>\n",
       "      <td>0.375807</td>\n",
       "      <td>0.201600</td>\n",
       "    </tr>\n",
       "    <tr>\n",
       "      <th>obscene</th>\n",
       "      <td>0.676515</td>\n",
       "      <td>0.403014</td>\n",
       "      <td>1.000000</td>\n",
       "      <td>0.141179</td>\n",
       "      <td>0.741272</td>\n",
       "      <td>0.286867</td>\n",
       "    </tr>\n",
       "    <tr>\n",
       "      <th>threat</th>\n",
       "      <td>0.157058</td>\n",
       "      <td>0.123601</td>\n",
       "      <td>0.141179</td>\n",
       "      <td>1.000000</td>\n",
       "      <td>0.150022</td>\n",
       "      <td>0.115128</td>\n",
       "    </tr>\n",
       "    <tr>\n",
       "      <th>insult</th>\n",
       "      <td>0.647518</td>\n",
       "      <td>0.375807</td>\n",
       "      <td>0.741272</td>\n",
       "      <td>0.150022</td>\n",
       "      <td>1.000000</td>\n",
       "      <td>0.337736</td>\n",
       "    </tr>\n",
       "    <tr>\n",
       "      <th>identity_hate</th>\n",
       "      <td>0.266009</td>\n",
       "      <td>0.201600</td>\n",
       "      <td>0.286867</td>\n",
       "      <td>0.115128</td>\n",
       "      <td>0.337736</td>\n",
       "      <td>1.000000</td>\n",
       "    </tr>\n",
       "  </tbody>\n",
       "</table>\n",
       "</div>"
      ],
      "text/plain": [
       "                  toxic  severe_toxic  ...    insult  identity_hate\n",
       "toxic          1.000000      0.308619  ...  0.647518       0.266009\n",
       "severe_toxic   0.308619      1.000000  ...  0.375807       0.201600\n",
       "obscene        0.676515      0.403014  ...  0.741272       0.286867\n",
       "threat         0.157058      0.123601  ...  0.150022       0.115128\n",
       "insult         0.647518      0.375807  ...  1.000000       0.337736\n",
       "identity_hate  0.266009      0.201600  ...  0.337736       1.000000\n",
       "\n",
       "[6 rows x 6 columns]"
      ]
     },
     "metadata": {
      "tags": []
     },
     "output_type": "display_data"
    },
    {
     "data": {
      "image/png": "[encoded data removed]",
      "text/plain": [
       "<Figure size 504x504 with 2 Axes>"
      ]
     },
     "metadata": {
      "tags": []
     },
     "output_type": "display_data"
    }
   ],
   "source": [
    "corr_df = train[train.columns[:]].corr()\n",
    "display(corr_df)\n",
    "\n",
    "plt.rcParams[\"figure.figsize\"] = (7,7)\n",
    "fig, ax = plt.subplots()\n",
    "im = ax.imshow(corr_df)\n",
    "im = ax.matshow(corr_df, cmap=plt.cm.Reds)\n",
    "# Loop over data dimensions and create text annotations.\n",
    "for i in range(len(corr_df)):\n",
    "    for j in range(len(corr_df)):\n",
    "        text = ax.text(j, i, round(corr_df.iloc[i, j], 3), \\\n",
    "        ha=\"center\", va=\"center\")\n",
    "\n",
    "# labels\n",
    "labels = list(corr_df.columns)\n",
    "labels.insert(0, \"\")\n",
    "ax.set_xticklabels(labels, minor=False)\n",
    "ax.set_yticklabels(labels, minor=False)\n",
    "ax.figure.colorbar(im, ax=ax)\n",
    "ax.set_title(\"Correlation Matrix\")\n",
    "plt.show()"
   ]
  },
  {
   "cell_type": "markdown",
   "metadata": {
    "colab_type": "text",
    "id": "-D27KkhkLJKz"
   },
   "source": [
    "## 2. Preprocessing"
   ]
  },
  {
   "cell_type": "markdown",
   "metadata": {
    "colab_type": "text",
    "id": "O4-RKN_CYzoT"
   },
   "source": [
    "### 2.1 Tokenization"
   ]
  },
  {
   "cell_type": "markdown",
   "metadata": {
    "colab_type": "text",
    "id": "vjNzlhQrXazx"
   },
   "source": [
    "This is specially for LSTM. I use the tokenizer to split the sentences into words. I set the number of unique words in our dictionary as 10000. \n",
    "\n",
    "After spliting a sentence to a sequence of words, I convert these words to a sequence of index.\n",
    "\n",
    "For example, \n",
    "\n",
    "sentence: \"this is the final project\"\n",
    "\n",
    "-> sequence of words: [\"this\", \"is\", \"the\", \"final\", \"project\"]\n",
    "\n",
    "-> sequence of indexes: [1, 2, 3, 4, 5]\n",
    "\n",
    "\n"
   ]
  },
  {
   "cell_type": "code",
   "execution_count": null,
   "metadata": {
    "colab": {},
    "colab_type": "code",
    "id": "yHpZG1QR9QhH"
   },
   "outputs": [],
   "source": [
    "maxUniqueWords = 10000\n",
    "tokenizer = Tokenizer(num_words=maxUniqueWords)\n",
    "tokenizer.fit_on_texts(sentences_tr)\n",
    "tokenized_tr = tokenizer.texts_to_sequences(sentences_tr)\n",
    "tokenized_te = tokenizer.texts_to_sequences(sentences_te)"
   ]
  },
  {
   "cell_type": "markdown",
   "metadata": {
    "colab_type": "text",
    "id": "mCx8XD1AMF09"
   },
   "source": [
    "### 2.2 Zero-padding\n",
    "\n",
    "This is specially for LSTM. \n",
    "\n",
    "Different sentences have different lengths, I need to convert them to the same length to make it is practical to train the neural network model. For a short sentence, I use the zero-padding to make them have the same length as others. For a long sentence, I trim them. \n",
    "\n",
    "For example, if the standard length is 7, then the sequence of indexs [1, 2, 3, 4, 5] will be zero-padded as [0, 0, 1, 2, 3, 4, 5]. \n",
    "\n",
    "I use the function `pad_sequences()` to do this operation, there is a parameter `maxlen`, which is the standard length of all sentences after zero-padding. If this pramameter is too large, trianing the neural network model will be too computationally expensive. On the other hand, if it is too small, I will lose much information in the long sentences. \n",
    "\n",
    "To decide this paramter, I plot a histgram as below. As shown in the plot below, most sentences are very short. I select the parameter `maxlen` as 200."
   ]
  },
  {
   "cell_type": "code",
   "execution_count": null,
   "metadata": {
    "colab": {
     "base_uri": "https://localhost:8080/",
     "height": 295
    },
    "colab_type": "code",
    "id": "ODCoNXaxN76a",
    "outputId": "fa22c2bf-b752-422b-e823-7dc46a4b4b47"
   },
   "outputs": [
    {
     "data": {
      "image/png": "[encoded data removed]",
      "text/plain": [
       "<Figure size 432x288 with 1 Axes>"
      ]
     },
     "metadata": {
      "tags": []
     },
     "output_type": "display_data"
    }
   ],
   "source": [
    "lenList = list(map(len, tokenized_tr))\n",
    "plt.hist(lenList, bins=200, facecolor=\"grey\", alpha=1, histtype='bar')\n",
    "plt.yscale(\"log\")\n",
    "plt.ylabel('Frequecny')\n",
    "plt.xlabel('Number of words')\n",
    "plt.title('Frequecny v.s. Number of words');"
   ]
  },
  {
   "cell_type": "code",
   "execution_count": null,
   "metadata": {
    "colab": {
     "base_uri": "https://localhost:8080/",
     "height": 134
    },
    "colab_type": "code",
    "id": "YGkEvftpNj7Q",
    "outputId": "1e2c4d81-ec91-425d-c2b2-9a89ad6b6ed2"
   },
   "outputs": [
    {
     "data": {
      "text/plain": [
       "array([[   0,    0,    0, ..., 4583, 2273,  985],\n",
       "       [   0,    0,    0, ...,  589, 8377,  182],\n",
       "       [   0,    0,    0, ...,    1,  737,  468],\n",
       "       ...,\n",
       "       [   0,    0,    0, ..., 8167, 3509, 4528],\n",
       "       [   0,    0,    0, ...,  151,   34,   11],\n",
       "       [   0,    0,    0, ..., 1627, 2056,   88]], dtype=int32)"
      ]
     },
     "execution_count": 73,
     "metadata": {
      "tags": []
     },
     "output_type": "execute_result"
    }
   ],
   "source": [
    "maxSentenceLen = 100\n",
    "Xtr = pad_sequences(tokenized_tr, maxlen=maxSentenceLen)\n",
    "Xte = pad_sequences(tokenized_te, maxlen=maxSentenceLen)\n",
    "Xtr"
   ]
  },
  {
   "cell_type": "markdown",
   "metadata": {
    "colab_type": "text",
    "id": "rgWvkl1wC17f"
   },
   "source": [
    "### 2.3 TF-IDF vectorization\n",
    "\n",
    "If term $t$ occurs in $n(t)$ out of $N$ documents, and term $t$ occurs $\\text{Count}(t,d)$ times in the document $d$, then TF-IDF formula for term $t$ in the document $d$ can be expressed as: \n",
    "\n",
    "$$\n",
    "\\text{tfidf}(t,d) = \\text{tf}(t,d) \\cdot \\text{idf}(t) = \\log_{10}[1+\\text{Count}(t,d)] \\cdot \\log_{10} [\\frac{N}{n(t)}].\n",
    "$$\n"
   ]
  },
  {
   "cell_type": "code",
   "execution_count": null,
   "metadata": {
    "colab": {},
    "colab_type": "code",
    "id": "wLtDekTxmrWZ"
   },
   "outputs": [],
   "source": [
    "tfidfVec1 = TfidfVectorizer(sublinear_tf=True,\n",
    "                           strip_accents='unicode',\n",
    "                           stop_words='english',\n",
    "                           lowercase=True,\n",
    "                           ngram_range=(1, 1))\n",
    "\n",
    "tfidfVec1.fit(train[\"comment_text\"])\n",
    "Xtr_tfidf1 = tfidfVec1.transform(train[\"comment_text\"])\n",
    "Xte_tfidf1 = tfidfVec1.transform(test[\"comment_text\"])"
   ]
  },
  {
   "cell_type": "code",
   "execution_count": null,
   "metadata": {
    "colab": {},
    "colab_type": "code",
    "id": "9Fc3TB7gBb4P"
   },
   "outputs": [],
   "source": [
    "tfidfVec2 = TfidfVectorizer(sublinear_tf=True,\n",
    "                           strip_accents='unicode',\n",
    "                           stop_words='english',\n",
    "                           lowercase=True,\n",
    "                           ngram_range=(1, 2))\n",
    "\n",
    "tfidfVec2.fit(train[\"comment_text\"])\n",
    "Xtr_tfidf2 = tfidfVec2.transform(train[\"comment_text\"])\n",
    "Xte_tfidf2 = tfidfVec2.transform(test[\"comment_text\"])"
   ]
  },
  {
   "cell_type": "markdown",
   "metadata": {
    "colab_type": "text",
    "id": "IGSLzy5htMu1"
   },
   "source": [
    "## 3. Naive Bayes\n",
    "\n",
    "Formula: \n",
    "\n",
    "$$\n",
    "c_{NB} = \\underset{c \\in C}{\\operatorname{argmax}} \\log P(c) + \\sum_{i\\in \\text{positions}} \\log P(w_i|c),\n",
    "$$\n",
    "\n",
    "where $c$ is a a class, $C$ is the number of all classes, and $w_i$ is the word at index $i$."
   ]
  },
  {
   "cell_type": "code",
   "execution_count": null,
   "metadata": {
    "colab": {},
    "colab_type": "code",
    "id": "1ixBMyK2dVTV"
   },
   "outputs": [],
   "source": [
    "# define the accuracy function\n",
    "def accuracy(y:np.array, yhat:np.array) -> float:\n",
    "    yhat[yhat >= 0.5] = 1\n",
    "    yhat[yhat < 0.5] = 0\n",
    "    return 1 - np.mean(np.abs(y-yhat))\n",
    "\n",
    "submission = pd.read_csv(path + \"/sample_submission.csv\")\n",
    "scores = pd.DataFrame(np.zeros(shape=(3,7)), columns=list(train.columns)[2:]+[\"average\"], \\\n",
    "                      index=[\"cross entropy loss\", \"accuracy\", \"auc\"])"
   ]
  },
  {
   "cell_type": "code",
   "execution_count": null,
   "metadata": {
    "colab": {},
    "colab_type": "code",
    "id": "dqX8kSHstOW5"
   },
   "outputs": [],
   "source": [
    "# build naive bayes models for each class\n",
    "for label in train.columns[2:]:\n",
    "    nb = MultinomialNB()\n",
    "    nb.fit(Xtr_tfidf2, train[label])\n",
    "    Yhat_tr = nb.predict_proba(Xtr_tfidf2)[:, 1]\n",
    "    submission.loc[:, label] = nb.predict_proba(Xte_tfidf2)[:, 1]\n",
    "\n",
    "    scores.loc[\"cross entropy loss\", label] = log_loss(train[label], Yhat_tr)\n",
    "    scores.loc[\"auc\", label] = roc_auc_score(train[label], Yhat_tr)\n",
    "    scores.loc[\"accuracy\", label] = accuracy(train[label].values, np.copy(Yhat_tr))\n",
    "\n",
    "submission.to_csv(path + \"/submission_nb.csv\", index=False)"
   ]
  },
  {
   "cell_type": "markdown",
   "metadata": {
    "colab_type": "text",
    "id": "CyMKRo5t85Ex"
   },
   "source": [
    "The table below shows the cross-entropy loss, accuracy and ROC AUC of naive Bayes model for each class in training data set."
   ]
  },
  {
   "cell_type": "code",
   "execution_count": 18,
   "metadata": {
    "colab": {
     "base_uri": "https://localhost:8080/",
     "height": 190
    },
    "colab_type": "code",
    "id": "Q_Z8C5ug8ZJ2",
    "outputId": "4afc4f00-15c6-43f7-df08-c7cd4d7d51f0"
   },
   "outputs": [
    {
     "data": {
      "text/html": [
       "<div>\n",
       "<style scoped>\n",
       "    .dataframe tbody tr th:only-of-type {\n",
       "        vertical-align: middle;\n",
       "    }\n",
       "\n",
       "    .dataframe tbody tr th {\n",
       "        vertical-align: top;\n",
       "    }\n",
       "\n",
       "    .dataframe thead th {\n",
       "        text-align: right;\n",
       "    }\n",
       "</style>\n",
       "<table border=\"1\" class=\"dataframe\">\n",
       "  <thead>\n",
       "    <tr style=\"text-align: right;\">\n",
       "      <th></th>\n",
       "      <th>toxic</th>\n",
       "      <th>severe_toxic</th>\n",
       "      <th>obscene</th>\n",
       "      <th>threat</th>\n",
       "      <th>insult</th>\n",
       "      <th>identity_hate</th>\n",
       "      <th>average</th>\n",
       "    </tr>\n",
       "  </thead>\n",
       "  <tbody>\n",
       "    <tr>\n",
       "      <th>cross entropy loss</th>\n",
       "      <td>0.294577</td>\n",
       "      <td>0.067734</td>\n",
       "      <td>0.204334</td>\n",
       "      <td>0.028244</td>\n",
       "      <td>0.209467</td>\n",
       "      <td>0.067256</td>\n",
       "      <td>0.160871</td>\n",
       "    </tr>\n",
       "    <tr>\n",
       "      <th>accuracy</th>\n",
       "      <td>0.913543</td>\n",
       "      <td>0.990004</td>\n",
       "      <td>0.949897</td>\n",
       "      <td>0.997004</td>\n",
       "      <td>0.951244</td>\n",
       "      <td>0.991195</td>\n",
       "      <td>0.960339</td>\n",
       "    </tr>\n",
       "    <tr>\n",
       "      <th>auc</th>\n",
       "      <td>0.924955</td>\n",
       "      <td>0.915966</td>\n",
       "      <td>0.919677</td>\n",
       "      <td>0.847005</td>\n",
       "      <td>0.914673</td>\n",
       "      <td>0.868693</td>\n",
       "      <td>0.904455</td>\n",
       "    </tr>\n",
       "  </tbody>\n",
       "</table>\n",
       "</div>"
      ],
      "text/plain": [
       "                       toxic  severe_toxic  ...  identity_hate   average\n",
       "cross entropy loss  0.294577      0.067734  ...       0.067256  0.160871\n",
       "accuracy            0.913543      0.990004  ...       0.991195  0.960339\n",
       "auc                 0.924955      0.915966  ...       0.868693  0.904455\n",
       "\n",
       "[3 rows x 7 columns]"
      ]
     },
     "execution_count": 18,
     "metadata": {
      "tags": []
     },
     "output_type": "execute_result"
    }
   ],
   "source": [
    "scores[\"average\"] = np.mean(scores.iloc[:, :5], axis=1)\n",
    "scores"
   ]
  },
  {
   "cell_type": "markdown",
   "metadata": {
    "colab_type": "text",
    "id": "GpMzgHUD8_HG"
   },
   "source": [
    "The prediction score (ROC AUC) in test set evaluted by Kaggle is 0.81913."
   ]
  },
  {
   "cell_type": "markdown",
   "metadata": {
    "colab_type": "text",
    "id": "81GIs9kcm3tN"
   },
   "source": [
    "## 4. Logistic regression\n",
    "\n",
    "Formula:\n",
    "\n",
    "$$\n",
    "y = \\text{Sigmoid}(z) = \\frac{1}{1+e^{-z}}, \\\\z = Xw + b,\n",
    "$$\n",
    "\n",
    "where $X$ is of dimension $n\\times p$; $w$ is of $p\\times 1$; $b$ is $n\\times 1$; $z$ and $y$ are $n\\times 1$.\n",
    "\n",
    "Since there are 6 classes, I need to build 6 seperate logistic regression models."
   ]
  },
  {
   "cell_type": "code",
   "execution_count": null,
   "metadata": {
    "colab": {},
    "colab_type": "code",
    "id": "izxPTg0XXcl2"
   },
   "outputs": [],
   "source": [
    "# build logistic regression models for each class\n",
    "for label in train.columns[2:]:\n",
    "    lr = LogisticRegression()\n",
    "    lr.fit(Xtr_tfidf2, train[label])\n",
    "    Yhat_tr = lr.predict_proba(Xtr_tfidf2)[:, 1]\n",
    "    submission.loc[:, label] = lr.predict_proba(Xte_tfidf2)[:, 1]\n",
    "\n",
    "    scores.loc[\"cross entropy loss\", label] = log_loss(train[label], Yhat_tr)\n",
    "    scores.loc[\"auc\", label] = roc_auc_score(train[label], Yhat_tr)\n",
    "    scores.loc[\"accuracy\", label] = accuracy(train[label].values, np.copy(Yhat_tr))\n",
    "\n",
    "submission.to_csv(path + \"/submission_lr.csv\", index=False)"
   ]
  },
  {
   "cell_type": "markdown",
   "metadata": {
    "colab_type": "text",
    "id": "B-DvGnMs8jWi"
   },
   "source": [
    "The table below shows the cross-entropy loss, accuracy and ROC AUC of logistic regression for each class in training data set."
   ]
  },
  {
   "cell_type": "code",
   "execution_count": null,
   "metadata": {
    "colab": {
     "base_uri": "https://localhost:8080/",
     "height": 190
    },
    "colab_type": "code",
    "id": "wg5TyGlwfseZ",
    "outputId": "b097af6b-44a3-474c-a856-bb9772cd758b"
   },
   "outputs": [
    {
     "data": {
      "text/html": [
       "<div>\n",
       "<style scoped>\n",
       "    .dataframe tbody tr th:only-of-type {\n",
       "        vertical-align: middle;\n",
       "    }\n",
       "\n",
       "    .dataframe tbody tr th {\n",
       "        vertical-align: top;\n",
       "    }\n",
       "\n",
       "    .dataframe thead th {\n",
       "        text-align: right;\n",
       "    }\n",
       "</style>\n",
       "<table border=\"1\" class=\"dataframe\">\n",
       "  <thead>\n",
       "    <tr style=\"text-align: right;\">\n",
       "      <th></th>\n",
       "      <th>toxic</th>\n",
       "      <th>severe_toxic</th>\n",
       "      <th>obscene</th>\n",
       "      <th>threat</th>\n",
       "      <th>insult</th>\n",
       "      <th>identity_hate</th>\n",
       "      <th>average</th>\n",
       "    </tr>\n",
       "  </thead>\n",
       "  <tbody>\n",
       "    <tr>\n",
       "      <th>cross entropy loss</th>\n",
       "      <td>0.101256</td>\n",
       "      <td>0.023906</td>\n",
       "      <td>0.054709</td>\n",
       "      <td>0.009685</td>\n",
       "      <td>0.069640</td>\n",
       "      <td>0.023101</td>\n",
       "      <td>0.051839</td>\n",
       "    </tr>\n",
       "    <tr>\n",
       "      <th>accuracy</th>\n",
       "      <td>0.961766</td>\n",
       "      <td>0.991352</td>\n",
       "      <td>0.979708</td>\n",
       "      <td>0.997218</td>\n",
       "      <td>0.973115</td>\n",
       "      <td>0.992292</td>\n",
       "      <td>0.980632</td>\n",
       "    </tr>\n",
       "    <tr>\n",
       "      <th>auc</th>\n",
       "      <td>0.986006</td>\n",
       "      <td>0.992861</td>\n",
       "      <td>0.994158</td>\n",
       "      <td>0.995825</td>\n",
       "      <td>0.988808</td>\n",
       "      <td>0.991235</td>\n",
       "      <td>0.991532</td>\n",
       "    </tr>\n",
       "  </tbody>\n",
       "</table>\n",
       "</div>"
      ],
      "text/plain": [
       "                       toxic  severe_toxic  ...  identity_hate   average\n",
       "cross entropy loss  0.101256      0.023906  ...       0.023101  0.051839\n",
       "accuracy            0.961766      0.991352  ...       0.992292  0.980632\n",
       "auc                 0.986006      0.992861  ...       0.991235  0.991532\n",
       "\n",
       "[3 rows x 7 columns]"
      ]
     },
     "execution_count": 41,
     "metadata": {
      "tags": []
     },
     "output_type": "execute_result"
    }
   ],
   "source": [
    "scores[\"average\"] = np.mean(scores.iloc[:, :5], axis=1)\n",
    "scores"
   ]
  },
  {
   "cell_type": "markdown",
   "metadata": {
    "colab_type": "text",
    "id": "-0pJdDrZ4YmH"
   },
   "source": [
    "The prediction score (ROC AUC) in test set evaluted by Kaggle is 0.97595."
   ]
  },
  {
   "cell_type": "markdown",
   "metadata": {
    "colab_type": "text",
    "id": "0KvOkRpq9dky"
   },
   "source": [
    "## 5. Random forest\n",
    "\n",
    "Random forest is a tree emsemble method and it can dramatically reduce the variance of the model compared to single decision tree."
   ]
  },
  {
   "cell_type": "code",
   "execution_count": null,
   "metadata": {
    "colab": {},
    "colab_type": "code",
    "id": "WO6PQL_OAJCJ"
   },
   "outputs": [],
   "source": [
    "for label in train.columns[2:]:\n",
    "    treeCount, max_features = 10, int(Xtr_tfidf1.shape[1]**0.5)\n",
    "    rf = RandomForestClassifier(max_features=max_features, min_samples_leaf=0.0001, n_estimators=treeCount)\n",
    "    rf.fit(Xtr_tfidf1, np.ravel(train[label]))\n",
    "    Yhat_tr = rf.predict_proba(Xtr_tfidf1)[:, 1]\n",
    "    submission.loc[:, label] = rf.predict_proba(Xte_tfidf1)[:, 1]\n",
    "\n",
    "    scores.loc[\"cross entropy loss\", label] = log_loss(train[label], Yhat_tr)\n",
    "    scores.loc[\"auc\", label] = roc_auc_score(train[label], Yhat_tr)\n",
    "    scores.loc[\"accuracy\", label] = accuracy(train[label].values, np.copy(Yhat_tr))\n",
    "\n",
    "submission.to_csv(path + \"/submission_rf.csv\", index=False)"
   ]
  },
  {
   "cell_type": "markdown",
   "metadata": {
    "colab_type": "text",
    "id": "fBtRYwLMGgQ7"
   },
   "source": [
    "The table below shows the cross-entropy loss, accuracy and ROC AUC of random forest for each class in training data set."
   ]
  },
  {
   "cell_type": "code",
   "execution_count": 42,
   "metadata": {
    "colab": {
     "base_uri": "https://localhost:8080/",
     "height": 190
    },
    "colab_type": "code",
    "id": "7YieXfyVDWpd",
    "outputId": "23e5dfdb-50dd-4e1f-c495-ceaaafac616f"
   },
   "outputs": [
    {
     "data": {
      "text/html": [
       "<div>\n",
       "<style scoped>\n",
       "    .dataframe tbody tr th:only-of-type {\n",
       "        vertical-align: middle;\n",
       "    }\n",
       "\n",
       "    .dataframe tbody tr th {\n",
       "        vertical-align: top;\n",
       "    }\n",
       "\n",
       "    .dataframe thead th {\n",
       "        text-align: right;\n",
       "    }\n",
       "</style>\n",
       "<table border=\"1\" class=\"dataframe\">\n",
       "  <thead>\n",
       "    <tr style=\"text-align: right;\">\n",
       "      <th></th>\n",
       "      <th>toxic</th>\n",
       "      <th>severe_toxic</th>\n",
       "      <th>obscene</th>\n",
       "      <th>threat</th>\n",
       "      <th>insult</th>\n",
       "      <th>identity_hate</th>\n",
       "      <th>average</th>\n",
       "    </tr>\n",
       "  </thead>\n",
       "  <tbody>\n",
       "    <tr>\n",
       "      <th>cross entropy loss</th>\n",
       "      <td>0.164773</td>\n",
       "      <td>0.029456</td>\n",
       "      <td>0.102225</td>\n",
       "      <td>0.011024</td>\n",
       "      <td>0.103707</td>\n",
       "      <td>0.029520</td>\n",
       "      <td>0.082237</td>\n",
       "    </tr>\n",
       "    <tr>\n",
       "      <th>accuracy</th>\n",
       "      <td>0.937733</td>\n",
       "      <td>0.990004</td>\n",
       "      <td>0.956916</td>\n",
       "      <td>0.997004</td>\n",
       "      <td>0.957379</td>\n",
       "      <td>0.991201</td>\n",
       "      <td>0.967807</td>\n",
       "    </tr>\n",
       "    <tr>\n",
       "      <th>auc</th>\n",
       "      <td>0.963565</td>\n",
       "      <td>0.985580</td>\n",
       "      <td>0.977778</td>\n",
       "      <td>0.992431</td>\n",
       "      <td>0.973112</td>\n",
       "      <td>0.980085</td>\n",
       "      <td>0.978493</td>\n",
       "    </tr>\n",
       "  </tbody>\n",
       "</table>\n",
       "</div>"
      ],
      "text/plain": [
       "                       toxic  severe_toxic  ...  identity_hate   average\n",
       "cross entropy loss  0.164773      0.029456  ...       0.029520  0.082237\n",
       "accuracy            0.937733      0.990004  ...       0.991201  0.967807\n",
       "auc                 0.963565      0.985580  ...       0.980085  0.978493\n",
       "\n",
       "[3 rows x 7 columns]"
      ]
     },
     "execution_count": 42,
     "metadata": {
      "tags": []
     },
     "output_type": "execute_result"
    }
   ],
   "source": [
    "scores[\"average\"] = np.mean(scores.iloc[:, :5], axis=1)\n",
    "scores"
   ]
  },
  {
   "cell_type": "markdown",
   "metadata": {
    "colab_type": "text",
    "id": "SZW6PSABGRx_"
   },
   "source": [
    "The prediction score (ROC AUC) in test set evaluted by Kaggle is 0.95805."
   ]
  },
  {
   "cell_type": "markdown",
   "metadata": {
    "colab_type": "text",
    "id": "vlU9r5AQEawe"
   },
   "source": [
    "## 6. XGBoost"
   ]
  },
  {
   "cell_type": "markdown",
   "metadata": {
    "colab_type": "text",
    "id": "YKnzT8r6EjQR"
   },
   "source": [
    "XGBoost is a popular tree emsemble model based on boosting trees. \n",
    "\n",
    "At $m^{th}$ step, we want to minimize the objective \n",
    "\n",
    "$$\n",
    "Obj^{(m)} = \\sum_{i=1}^{n}L(y_i, f_{m-1}(x)+h_m(x_i)) + \\Omega(f_{m-1}+h_{m}),\n",
    "$$\n",
    "then $h_m = \\operatorname*{argmin}_{h_m} Obj^{(m)}$. \n",
    "\n",
    "In the formula above, $\\Omega(f_m)$ is the **regularization** term, which is used to measure the complexity of $f_m$. \n",
    "$$\n",
    "\\Omega(f_m) = \\mu T + \\frac{1}{2}\\lambda \\sum_{j=1}^{T} w_j^2,\n",
    "$$\n",
    "where $T$ is the number of leaves, $w_j$ is the prediction score of leaf $j$, and $\\sum_{j=1}^{T} w_j^2$ is the L2 norm of leaf scores. \n",
    "\n",
    "We use **second order Taylor expansion** to get the approximation of loss function. Recall Taylor expansion: $f(x+\\Delta x) \\approx f(x)+f'(x)\\Delta x + \\frac{1}{2} f''(x)\\Delta x^2$. We do that for $L(y_i, f_{m-1}(x)+h_m(x_i))$, and we have\n",
    "\n",
    "$$\\begin{align*}\n",
    "Obj^{(m)} &= \\sum_{i=1}^{n}L(y_i, f_{m-1}(x)+h_m(x_i)) + \\Omega(f_{m-1}) + \\Omega(h_{m})\\\\ \n",
    "&\\approx \\sum_{i=1}^{n} \\Big[L(y_i, f_{m-1}(x)) + g_ih_m(x_i) + \\frac{1}{2}h_ih_m^2(x_i)\\Big] + \\Omega(f_{m-1}) + \\Omega(h_{m}),\n",
    "\\end{align*}$$\n",
    "\n",
    "where $g_i = \\frac{∂L(y_i,f_{m-1}(x_i))}{∂f_{m-1}(x_i)}, h_i = \\frac{∂L^2(y_i,f_{m-1}(x_i))}{∂f_{m-1}^2(x_i)}$. "
   ]
  },
  {
   "cell_type": "markdown",
   "metadata": {
    "colab_type": "text",
    "id": "LX479jDHEcyY"
   },
   "source": [
    "Here is a brief description of XGBoost algorithm:\n",
    "For $m = 1,...,M$:\n",
    "\n",
    "1. $$\\begin{align*}\n",
    "   h_m = \\operatorname*{argmin}_{h_m} Obj^{(m)} = \\operatorname*{argmin}_{h_m} \\Big[g_ih_m(x_i) + \\frac{1}{2}h_ih_m^2(x_i)\\Big] + \\Omega(h_{m}).\n",
    "   \\end{align*}$$\n",
    "\n",
    "2. $$\\begin{align*}\n",
    "   f_m(x) = f_{m−1}(x) + s_m \\cdot h_m(x),\n",
    "   \\end{align*}$$ where $s_m$ is called step-size or shrinkage, usually set around $0.1$. \n",
    "\n",
    "The **shrinkage** means we do not do full optimization in each step and reserve chance for future rounds, it helps prevent overfitting. \n",
    "\n",
    "Regularization, second order Taylor expansion, and shrinkage are the key reasons why XGBoost is better than Gradient boosting. "
   ]
  },
  {
   "cell_type": "code",
   "execution_count": null,
   "metadata": {
    "colab": {},
    "colab_type": "code",
    "id": "At2X5KDGGr1Y"
   },
   "outputs": [],
   "source": [
    "for label in train.columns[2:]:\n",
    "    xgb = XGBClassifier(min_samples_leaf=0.00001, learning_rate=0.1, \n",
    "                        n_estimators=50, eval_metric=\"auc\")\n",
    "    xgb.fit(Xtr_tfidf1, np.ravel(train[label]))\n",
    "    Yhat_tr = xgb.predict_proba(Xtr_tfidf1)[:, 1]\n",
    "    submission.loc[:, label] = xgb.predict_proba(Xte_tfidf1)[:, 1]\n",
    "\n",
    "    scores.loc[\"cross entropy loss\", label] = log_loss(train[label], Yhat_tr)\n",
    "    scores.loc[\"auc\", label] = roc_auc_score(train[label], Yhat_tr)\n",
    "    scores.loc[\"accuracy\", label] = accuracy(train[label].values, np.copy(Yhat_tr))\n",
    "\n",
    "submission.to_csv(path + \"/submission_xgb.csv\", index=False)"
   ]
  },
  {
   "cell_type": "code",
   "execution_count": 55,
   "metadata": {
    "colab": {
     "base_uri": "https://localhost:8080/",
     "height": 190
    },
    "colab_type": "code",
    "id": "DthpUEtiOOOg",
    "outputId": "a0148f00-c6bf-40ac-9b4f-b54661a03c0b"
   },
   "outputs": [
    {
     "data": {
      "text/html": [
       "<div>\n",
       "<style scoped>\n",
       "    .dataframe tbody tr th:only-of-type {\n",
       "        vertical-align: middle;\n",
       "    }\n",
       "\n",
       "    .dataframe tbody tr th {\n",
       "        vertical-align: top;\n",
       "    }\n",
       "\n",
       "    .dataframe thead th {\n",
       "        text-align: right;\n",
       "    }\n",
       "</style>\n",
       "<table border=\"1\" class=\"dataframe\">\n",
       "  <thead>\n",
       "    <tr style=\"text-align: right;\">\n",
       "      <th></th>\n",
       "      <th>toxic</th>\n",
       "      <th>severe_toxic</th>\n",
       "      <th>obscene</th>\n",
       "      <th>threat</th>\n",
       "      <th>insult</th>\n",
       "      <th>identity_hate</th>\n",
       "      <th>average</th>\n",
       "    </tr>\n",
       "  </thead>\n",
       "  <tbody>\n",
       "    <tr>\n",
       "      <th>cross entropy loss</th>\n",
       "      <td>0.210161</td>\n",
       "      <td>0.033305</td>\n",
       "      <td>0.100495</td>\n",
       "      <td>0.014026</td>\n",
       "      <td>0.119545</td>\n",
       "      <td>0.033461</td>\n",
       "      <td>0.095507</td>\n",
       "    </tr>\n",
       "    <tr>\n",
       "      <th>accuracy</th>\n",
       "      <td>0.931686</td>\n",
       "      <td>0.990518</td>\n",
       "      <td>0.970653</td>\n",
       "      <td>0.997299</td>\n",
       "      <td>0.961785</td>\n",
       "      <td>0.992035</td>\n",
       "      <td>0.970388</td>\n",
       "    </tr>\n",
       "    <tr>\n",
       "      <th>auc</th>\n",
       "      <td>0.869150</td>\n",
       "      <td>0.942195</td>\n",
       "      <td>0.927468</td>\n",
       "      <td>0.896759</td>\n",
       "      <td>0.900400</td>\n",
       "      <td>0.907127</td>\n",
       "      <td>0.907194</td>\n",
       "    </tr>\n",
       "  </tbody>\n",
       "</table>\n",
       "</div>"
      ],
      "text/plain": [
       "                       toxic  severe_toxic  ...  identity_hate   average\n",
       "cross entropy loss  0.210161      0.033305  ...       0.033461  0.095507\n",
       "accuracy            0.931686      0.990518  ...       0.992035  0.970388\n",
       "auc                 0.869150      0.942195  ...       0.907127  0.907194\n",
       "\n",
       "[3 rows x 7 columns]"
      ]
     },
     "execution_count": 55,
     "metadata": {
      "tags": []
     },
     "output_type": "execute_result"
    }
   ],
   "source": [
    "scores[\"average\"] = np.mean(scores.iloc[:, :5], axis=1)\n",
    "scores"
   ]
  },
  {
   "cell_type": "markdown",
   "metadata": {
    "colab_type": "text",
    "id": "XXTGbVnzX0WW"
   },
   "source": [
    "The prediction score (ROC AUC) in test set evaluted by Kaggle is 0.91208."
   ]
  },
  {
   "cell_type": "markdown",
   "metadata": {
    "colab_type": "text",
    "id": "RyoEXPt4WUJQ"
   },
   "source": [
    "## 7. LSTM model\n",
    "\n",
    "The neural networks perform much better than other models like n-gram language models. In network, word embeddings are used to represent the previous words, rather than the exact words that are used in n-gram models. It follows that the neural network models can predict based on some contexts that are even unseen in the training data. "
   ]
  },
  {
   "cell_type": "markdown",
   "metadata": {
    "colab_type": "text",
    "id": "k8PhW8qcasm_"
   },
   "source": [
    "### 7.1 Input layer\n",
    "\n",
    "This layer accepts the indexs of the words."
   ]
  },
  {
   "cell_type": "code",
   "execution_count": null,
   "metadata": {
    "colab": {},
    "colab_type": "code",
    "id": "FRUv-VeVa2XA"
   },
   "outputs": [],
   "source": [
    "inp = Input(shape=(maxSentenceLen, ))"
   ]
  },
  {
   "cell_type": "markdown",
   "metadata": {
    "colab_type": "text",
    "id": "mTAmvB9JcJLO"
   },
   "source": [
    "### 7.2 Embedding layer"
   ]
  },
  {
   "cell_type": "markdown",
   "metadata": {
    "colab_type": "text",
    "id": "Hk7D_owjsLaT"
   },
   "source": [
    "If I convert all the indexs of words into ont-hot vectors, the dimension will be too large. The word embedding is a good way to solve this problem. The intuition is that we can encode our words to a $D$-dimensional space, and each dimension may represent one meaning. For example, maybe there is a dimension that represent the size: huge, big, medium, small and tiny etc. \n",
    "\n",
    "One way is using the pretrained word embeddings (such as GloVe). However, a better way is adding a embedding layer in the RNN (or LSTM), and train the word embeddings while training the network, it is better because these embeddings are specifically trained for the task."
   ]
  },
  {
   "cell_type": "code",
   "execution_count": null,
   "metadata": {
    "colab": {},
    "colab_type": "code",
    "id": "dTKfGZsWc2l2"
   },
   "outputs": [],
   "source": [
    "embeddingSize = 100\n",
    "wordEmbed = Embedding(input_dim=maxUniqueWords, output_dim=embeddingSize)(inp)"
   ]
  },
  {
   "cell_type": "markdown",
   "metadata": {
    "colab_type": "text",
    "id": "F1uFRkBqoC8c"
   },
   "source": [
    "### 7.3 LSTM layer\n",
    "\n",
    "LSTM can capture long-term dependencies by deciding what to remember and forget in its layers. There are six components:\n",
    "\n",
    "$$\n",
    "\\text{Input gate: } i_t = \\sigma (W^{(i)}x_t + U^{(i)}h_{t-1}), \\\\\\text{Forget gate: } f_t = \\sigma (W^{(f)}x_t + U^{(f)}h_{t-1}), \\\\\\text{Output/Exposure gate: } o_t = \\sigma (W^{(o)}x_t + U^{(o)}h_{t-1}), \\\\\\text{New memory cell: } \\tilde{c}_t = \\text{tanh}(W^{(c)}x_t + U^{(c)}h_{t-1}), \\\\\\text{Final memory cell: } c_t = f_t \\cdot c_{t-1} + i_t \\cdot \\tilde{c}_t, \\\\ \\text{Output:} h_t = o_t \\cdot \\text{tanh}(c_t).\n",
    "$$\n"
   ]
  },
  {
   "cell_type": "markdown",
   "metadata": {
    "colab_type": "text",
    "id": "lLGgtWnWlk_c"
   },
   "source": [
    "![alt text](https://github.com/WalkerMao/Notes/blob/master/Pictures/image-20191214001943088.png?raw=true) \n",
    "\n",
    "[Source: CS224n notes.](http://web.stanford.edu/class/cs224n/readings/cs224n-2019-notes05-LM_RNN.pdf)"
   ]
  },
  {
   "cell_type": "code",
   "execution_count": null,
   "metadata": {
    "colab": {},
    "colab_type": "code",
    "id": "85tb5f-Ioan8"
   },
   "outputs": [],
   "source": [
    "outputDim = 50\n",
    "lstm = Bidirectional(LSTM(units=outputDim, return_sequences=True, dropout=0.3, \\\n",
    "                          recurrent_dropout=0.3))(wordEmbed)"
   ]
  },
  {
   "cell_type": "markdown",
   "metadata": {
    "colab_type": "text",
    "id": "rYcZXE9JrTIl"
   },
   "source": [
    "### 7.4 Maximum pooling layer\n",
    "\n",
    "I use this layer to reduce the dimension and apply the drop-out for regularization, and to reduce the overfitting. "
   ]
  },
  {
   "cell_type": "code",
   "execution_count": null,
   "metadata": {
    "colab": {},
    "colab_type": "code",
    "id": "WxDte0DgpE1k"
   },
   "outputs": [],
   "source": [
    "lstm = GlobalMaxPool1D()(lstm)\n",
    "lstm = Dropout(rate=0.3)(lstm)"
   ]
  },
  {
   "cell_type": "markdown",
   "metadata": {
    "colab_type": "text",
    "id": "_ABFA9UqvpIQ"
   },
   "source": [
    "### 7.5 Fully connected layer\n",
    "\n",
    "The activation function used here is ReLU.\n",
    "\n",
    "$$\n",
    "\\text{ReLU: } \\sigma(z)=\\max(z,0).\n",
    "$$\n",
    "\n",
    "The gradient vannishing is not a severe problem for this function, so it is better than sigmoid and tanh. This layer is fully connected with the previous layer, and I also apply the drop-out to reduce over-fitting."
   ]
  },
  {
   "cell_type": "code",
   "execution_count": null,
   "metadata": {
    "colab": {},
    "colab_type": "code",
    "id": "kyPUIzBxrjkS"
   },
   "outputs": [],
   "source": [
    "fc = Dense(units=50, activation=\"relu\")(lstm)\n",
    "fc = Dropout(rate=0.3)(fc)"
   ]
  },
  {
   "cell_type": "markdown",
   "metadata": {
    "colab_type": "text",
    "id": "QA0n1c_zta6M"
   },
   "source": [
    "### 7.6 Sigmoid layer\n",
    "\n",
    "In this problem, one observation may be classified to several classes, so I should not use the softmax function. The function used is this layer is sigmoid, since I need to predict the probability of each class, which is between 0 and 1.\n",
    "\n",
    "$$\n",
    "\\text{Sigmoid: }\\sigma(z)=\\frac{1}{1+e^{-z}}.\n",
    "$$\n",
    "\n",
    "The output dimension is 6 since there are 6 classes. "
   ]
  },
  {
   "cell_type": "code",
   "execution_count": null,
   "metadata": {
    "colab": {},
    "colab_type": "code",
    "id": "VSK7R_5ztiX1"
   },
   "outputs": [],
   "source": [
    "out = Dense(units=6, activation=\"sigmoid\")(fc) "
   ]
  },
  {
   "cell_type": "markdown",
   "metadata": {
    "colab_type": "text",
    "id": "4suRF5KMu8IJ"
   },
   "source": [
    "### 7.7 Construct the model\n",
    "\n",
    "The architure of this model:\n",
    "\n",
    "```\n",
    "Input -> [Input layer] -> [Embedding layer] ->  [LSTM layer] -> [Maximum pooling layer] -> [Fully connected layer] -> [Sigmoid layer] -> Output\n",
    "```"
   ]
  },
  {
   "cell_type": "markdown",
   "metadata": {
    "colab_type": "text",
    "id": "WtetxARj5gAa"
   },
   "source": [
    "For this classification problem, the loss function is the cross entropy loss:\n",
    "\n",
    "**Cross-entropy loss** function for $K$-class classification: \n",
    "\n",
    "$$\n",
    "\\text{Loss}(y_i, \\hat{p}_i) = -\\sum_{k=1}^{K} I(y_i \\text{ in class } k)\\log(\\hat{p}_{ik}),\n",
    "$$\n",
    "\n",
    "where $\\hat{p}_{ik}$ is the estimated probability of $y_i$ belongs to class $k$. For binary classification, $L(y_i, \\hat{p}_i) = -y_i\\log(\\hat{p}_i) - (1-y_i)\\log(1-\\hat{p}_i)$, where $y_i\\in\\{0,1\\}$, $\\hat{p}_i$ is the estimated probability of $y_i=1$.\n",
    "\n",
    "The partial derivative of the cross entropy loss:\n",
    "\n",
    "$$\n",
    "\\frac{\\partial \\text{Loss}} {\\partial \\hat{p}_{ik}} = \\frac{y_{ik}}{\\hat{p}_{ik}}.\n",
    "$$"
   ]
  },
  {
   "cell_type": "code",
   "execution_count": null,
   "metadata": {
    "colab": {},
    "colab_type": "code",
    "id": "wdsP6oNnxiJr"
   },
   "outputs": [],
   "source": [
    "model = Model(inputs=inp, outputs=out)\n",
    "model.compile(loss='binary_crossentropy', optimizer='adam', metrics=['accuracy'])"
   ]
  },
  {
   "cell_type": "markdown",
   "metadata": {
    "colab_type": "text",
    "id": "2TvMTj2hJcnz"
   },
   "source": [
    "### 7.8 Training\n",
    "\n",
    "Training the LSTM model, with the batch size of 100 and different epochs. To see the validation error and accuracy, I use 10% of the training data set as the validation set. \n",
    "\n",
    "I have tried different epochs and recorded the the number of epochs and the corresponding error and accuracy, as shown in the table below."
   ]
  },
  {
   "cell_type": "code",
   "execution_count": null,
   "metadata": {
    "colab": {},
    "colab_type": "code",
    "id": "j29A5Ko14dGQ"
   },
   "outputs": [],
   "source": [
    "batch_size = 100\n",
    "epochs = 5\n",
    "model.fit(Xtr, Ytr, batch_size=batch_size, epochs=epochs, validation_split=0.1)"
   ]
  },
  {
   "cell_type": "code",
   "execution_count": null,
   "metadata": {
    "colab": {
     "base_uri": "https://localhost:8080/",
     "height": 195
    },
    "colab_type": "code",
    "id": "mdG_ePbvw22y",
    "outputId": "c080888c-c5c2-493a-d0e6-eb30cc2e804b"
   },
   "outputs": [
    {
     "data": {
      "text/html": [
       "<div>\n",
       "<style scoped>\n",
       "    .dataframe tbody tr th:only-of-type {\n",
       "        vertical-align: middle;\n",
       "    }\n",
       "\n",
       "    .dataframe tbody tr th {\n",
       "        vertical-align: top;\n",
       "    }\n",
       "\n",
       "    .dataframe thead th {\n",
       "        text-align: right;\n",
       "    }\n",
       "</style>\n",
       "<table border=\"1\" class=\"dataframe\">\n",
       "  <thead>\n",
       "    <tr style=\"text-align: right;\">\n",
       "      <th></th>\n",
       "      <th>Training loss</th>\n",
       "      <th>Training accuracy</th>\n",
       "      <th>Validaton loss</th>\n",
       "      <th>Validation accuracy</th>\n",
       "    </tr>\n",
       "  </thead>\n",
       "  <tbody>\n",
       "    <tr>\n",
       "      <th>0</th>\n",
       "      <td>0.0425</td>\n",
       "      <td>0.9840</td>\n",
       "      <td>0.0460</td>\n",
       "      <td>0.9826</td>\n",
       "    </tr>\n",
       "    <tr>\n",
       "      <th>1</th>\n",
       "      <td>0.0391</td>\n",
       "      <td>0.9848</td>\n",
       "      <td>0.0459</td>\n",
       "      <td>0.9829</td>\n",
       "    </tr>\n",
       "    <tr>\n",
       "      <th>2</th>\n",
       "      <td>0.0362</td>\n",
       "      <td>0.9857</td>\n",
       "      <td>0.0477</td>\n",
       "      <td>0.9827</td>\n",
       "    </tr>\n",
       "    <tr>\n",
       "      <th>3</th>\n",
       "      <td>0.0335</td>\n",
       "      <td>0.9866</td>\n",
       "      <td>0.0498</td>\n",
       "      <td>0.9820</td>\n",
       "    </tr>\n",
       "    <tr>\n",
       "      <th>4</th>\n",
       "      <td>0.0312</td>\n",
       "      <td>0.9874</td>\n",
       "      <td>0.0539</td>\n",
       "      <td>0.9823</td>\n",
       "    </tr>\n",
       "  </tbody>\n",
       "</table>\n",
       "</div>"
      ],
      "text/plain": [
       "   Training loss  Training accuracy  Validaton loss  Validation accuracy\n",
       "0         0.0425             0.9840          0.0460               0.9826\n",
       "1         0.0391             0.9848          0.0459               0.9829\n",
       "2         0.0362             0.9857          0.0477               0.9827\n",
       "3         0.0335             0.9866          0.0498               0.9820\n",
       "4         0.0312             0.9874          0.0539               0.9823"
      ]
     },
     "execution_count": 39,
     "metadata": {
      "tags": []
     },
     "output_type": "execute_result"
    }
   ],
   "source": [
    "val = pd.DataFrame([[0.0425,0.9840,0.0460,0.9826],\n",
    "                    [0.0391,0.9848,0.0459,0.9829],\n",
    "                    [0.0362,0.9857,0.0477,0.9827],\n",
    "                    [0.0335,0.9866,0.0498,0.9820],\n",
    "                    [0.0312,0.9874,0.0539,0.9823]])\n",
    "val.columns = [\"Training loss\", \"Training accuracy\", \"Validaton loss\", \"Validation accuracy\"]\n",
    "val"
   ]
  },
  {
   "cell_type": "markdown",
   "metadata": {
    "colab_type": "text",
    "id": "qq5iRmuLFDv4"
   },
   "source": [
    "From the plots below, we can see that the validation loss is lowest when `epochs=2`, and the validation accuracy is highest for the same parameter value. However, the training loss keeps decreasing and training accuracy keeps increasing."
   ]
  },
  {
   "cell_type": "code",
   "execution_count": null,
   "metadata": {
    "colab": {
     "base_uri": "https://localhost:8080/",
     "height": 237
    },
    "colab_type": "code",
    "id": "bZt6nckVKQDQ",
    "outputId": "c7c98247-ec38-4661-f83f-fb6bc8b0c787"
   },
   "outputs": [
    {
     "data": {
      "image/png": "[encoded data removed]",
      "text/plain": [
       "<Figure size 504x504 with 2 Axes>"
      ]
     },
     "metadata": {
      "tags": []
     },
     "output_type": "display_data"
    }
   ],
   "source": [
    "plt.figure()\n",
    "plt.subplot(2,2,1)\n",
    "plt.plot(range(1,6), val[[\"Training loss\", \"Validaton loss\"]])\n",
    "plt.title(\"Loss v.s. Epochs\")\n",
    "plt.legend(['train', \"test\"]);\n",
    "plt.subplot(2,2,2)\n",
    "plt.plot(range(1,6), val[[\"Training accuracy\", \"Validation accuracy\"]])\n",
    "plt.title(\"Accuracy v.s. Epochs\")\n",
    "plt.legend(['train', \"test\"]);"
   ]
  },
  {
   "cell_type": "markdown",
   "metadata": {
    "colab_type": "text",
    "id": "6s3NHXe2E_gY"
   },
   "source": [
    "This model tends to be overfitting for large number of epochs. It follows that `epochs=2` is the best parameter I should select. For the final model, all data is used for training and there is no validation set."
   ]
  },
  {
   "cell_type": "code",
   "execution_count": null,
   "metadata": {
    "colab": {
     "base_uri": "https://localhost:8080/",
     "height": 101
    },
    "colab_type": "code",
    "id": "_kiiNzaHyk3P",
    "outputId": "2b8c9665-1a1b-4996-fe82-ff7cbffc1802"
   },
   "outputs": [
    {
     "name": "stdout",
     "output_type": "stream",
     "text": [
      "Epoch 1/2\n",
      "159571/159571 [==============================] - 557s 3ms/step - loss: 0.0424 - acc: 0.9839\n",
      "Epoch 2/2\n",
      "159571/159571 [==============================] - 553s 3ms/step - loss: 0.0394 - acc: 0.9846\n"
     ]
    },
    {
     "data": {
      "text/plain": [
       "<keras.callbacks.History at 0x7fb55c591780>"
      ]
     },
     "execution_count": 97,
     "metadata": {
      "tags": []
     },
     "output_type": "execute_result"
    }
   ],
   "source": [
    "batch_size = 100\n",
    "epochs = 2\n",
    "model.fit(Xtr, Ytr, batch_size=batch_size, epochs=epochs, validation_split=0)"
   ]
  },
  {
   "cell_type": "markdown",
   "metadata": {
    "colab_type": "text",
    "id": "b5HaerYnKgDd"
   },
   "source": [
    "### 7.9 Summary of the model\n",
    "\n",
    "The table below is the summary of this model, and there are 1,031,916 parameters in total."
   ]
  },
  {
   "cell_type": "code",
   "execution_count": null,
   "metadata": {
    "colab": {
     "base_uri": "https://localhost:8080/",
     "height": 420
    },
    "colab_type": "code",
    "id": "Dl8oqwJTNi4f",
    "outputId": "d2692f66-c661-4479-9ffb-d12f9e043e91"
   },
   "outputs": [
    {
     "name": "stdout",
     "output_type": "stream",
     "text": [
      "Model: \"model_1\"\n",
      "_________________________________________________________________\n",
      "Layer (type)                 Output Shape              Param #   \n",
      "=================================================================\n",
      "input_1 (InputLayer)         (None, 200)               0         \n",
      "_________________________________________________________________\n",
      "embedding_1 (Embedding)      (None, 200, 100)          1000000   \n",
      "_________________________________________________________________\n",
      "lstm_layer (LSTM)            (None, 200, 50)           30200     \n",
      "_________________________________________________________________\n",
      "global_max_pooling1d_1 (Glob (None, 50)                0         \n",
      "_________________________________________________________________\n",
      "dropout_1 (Dropout)          (None, 50)                0         \n",
      "_________________________________________________________________\n",
      "dense_1 (Dense)              (None, 30)                1530      \n",
      "_________________________________________________________________\n",
      "dropout_2 (Dropout)          (None, 30)                0         \n",
      "_________________________________________________________________\n",
      "dense_2 (Dense)              (None, 6)                 186       \n",
      "=================================================================\n",
      "Total params: 1,031,916\n",
      "Trainable params: 1,031,916\n",
      "Non-trainable params: 0\n",
      "_________________________________________________________________\n"
     ]
    }
   ],
   "source": [
    "model.summary()"
   ]
  },
  {
   "cell_type": "markdown",
   "metadata": {
    "colab_type": "text",
    "id": "uNfrap5aKzBm"
   },
   "source": [
    "### 7.10 Prediction"
   ]
  },
  {
   "cell_type": "markdown",
   "metadata": {
    "colab_type": "text",
    "id": "6iSljl9MQYKD"
   },
   "source": [
    "Predict the probabilities on the test data set. The prediction score evaluted by Kaggle is 0.96736."
   ]
  },
  {
   "cell_type": "code",
   "execution_count": null,
   "metadata": {
    "colab": {},
    "colab_type": "code",
    "id": "ucsXCcbxIswW"
   },
   "outputs": [],
   "source": [
    "Yhat_te = model.predict(Xte)"
   ]
  },
  {
   "cell_type": "code",
   "execution_count": null,
   "metadata": {
    "colab": {},
    "colab_type": "code",
    "id": "rlzYqMvQPOCv"
   },
   "outputs": [],
   "source": [
    "submission = pd.read_csv(path + \"/sample_submission.csv\")\n",
    "submission.iloc[:, 1:] = Yhat_te\n",
    "submission.to_csv(path + \"/submission_lstm.csv\", index=False)"
   ]
  },
  {
   "cell_type": "markdown",
   "metadata": {
    "colab_type": "text",
    "id": "S-JQ0VCc3C8d"
   },
   "source": [
    "## 8. Related work\n",
    "\n",
    "For this toxic language classification preblem, some combinations such as shallow learners with deep neural networks are especially effective (van Aken, Betty, et al., 2018). Capsule networks with dynamic routing can outperfroms LSTM. In adddition, capsule networks show significant improvement when transferring single-label to multi-label text classifications over strong baseline methods (Zhao et al., 2018). However, these models are too computationally expensive to implement for my final project. I want to build a model that have a good prediction performance and is computationally affordable.\n",
    "\n",
    "\n",
    "**References:**\n",
    "\n",
    "van Aken, Betty, et al. \"Challenges for toxic comment classification: An in-depth error analysis.\" arXiv preprint arXiv:1809.07572 (2018).\n",
    "\n",
    "Zhao, Wei, et al. \"Investigating capsule networks with dynamic routing for text classification.\" arXiv preprint arXiv:1804.00538 (2018).\n"
   ]
  },
  {
   "cell_type": "markdown",
   "metadata": {
    "colab_type": "text",
    "id": "KXtuZ_Lg-qeQ"
   },
   "source": [
    "## 9. Results and conclusion"
   ]
  },
  {
   "cell_type": "markdown",
   "metadata": {
    "colab_type": "text",
    "id": "nAASCX7eKx-M"
   },
   "source": [
    "The average prediction scores on 6 classes:\n",
    "\n",
    "| Model | Cross entropy (train)| Accuracy (train) | ROC AUC (train) | ROC AUC (test) |\n",
    "|---|---|---|---|---|\n",
    "|Naive Bayes| 0.1609 | 0.9603 | 0.9045 | 0.81913 |\n",
    "|Logistic regression| 0.0518 | 0.9806 | **0.9915** |**0.97595** |\n",
    "| Random forest | 0.0822 | 0.9678 | 0.9785 | 0.95805 |\n",
    "|XGBoost| 0.0955 | 0.9603 | 0.9072 | 0.91208 |\n",
    "| LSTM | **0.0394**\t | **0.9846** | 0.9821 |0.96736 |\n",
    "\n",
    "We can see that the logistic regression is the best model since it has the highest ROC AUC in the test data set. \n",
    "\n",
    "LSTM usually performs better than other n-gram models since it can handle much longer memories, and they can generalize better over similar words by using word embeddings.\n",
    "\n",
    "However, in this classification problem, I do not need to have long memories since one or two key words are enough for the model to do classification. I think that is why logistic regression with 2 gram is better than LSTM."
   ]
  },
  {
   "cell_type": "markdown",
   "metadata": {
    "colab_type": "text",
    "id": "msm1h_r41fP-"
   },
   "source": [
    "## 10. Acknowledgments\n",
    "\n",
    "### 10.1 Data set\n",
    "\n",
    "From Kaggle: [Toxic Comment Classification Challenge.](https://www.kaggle.com/c/jigsaw-toxic-comment-classification-challenge/data.)\n",
    "\n",
    "### 10.2 Libraries\n",
    "\n",
    "`pyspark`, `numpy`, `pandas`, `matplotlib`, `sklearn`, `xgboost`, `keras`.\n",
    "\n",
    "### 10.3 References\n",
    "\n",
    "Jurafsky, Daniel and James H. Martin. *Speech and Language Processing (3 rd ed.)*. 2019.\n",
    "\n",
    "Friedman, Jerome, Trevor Hastie, and Robert Tibshirani. *The Elements of Statistical Learning*. Vol. 1. No. 10. New York: Springer series in statistics, 2001. \n",
    "\n",
    "Chen, Tianqi, and Carlos Guestrin. \"Xgboost: A scalable tree boosting system.\" *Proceedings of the 22nd acm sigkdd international conference on knowledge discovery and data mining*. ACM, 2016.\n",
    "\n",
    "[CS224n: NLP with DL. Lecture Notes: Part V. Language Models, RNN, GRU and LSTM.](http://web.stanford.edu/class/cs224n/readings/cs224n-2019-notes05-LM_RNN.pdf)\n",
    "\n",
    "van Aken, Betty, et al. \"Challenges for toxic comment classification: An in-depth error analysis.\" arXiv preprint arXiv:1809.07572 (2018).\n",
    "\n",
    "Zhao, Wei, et al. \"Investigating capsule networks with dynamic routing for text classification.\" arXiv preprint arXiv:1804.00538 (2018)."
   ]
  }
 ],
 "metadata": {
  "colab": {
   "collapsed_sections": [],
   "name": "Toxic Comment Classification.ipynb",
   "provenance": []
  },
  "kernelspec": {
   "display_name": "Python 3",
   "language": "python",
   "name": "python3"
  },
  "language_info": {
   "codemirror_mode": {
    "name": "ipython",
    "version": 3
   },
   "file_extension": ".py",
   "mimetype": "text/x-python",
   "name": "python",
   "nbconvert_exporter": "python",
   "pygments_lexer": "ipython3",
   "version": "3.7.3"
  }
 },
 "nbformat": 4,
 "nbformat_minor": 4
}
